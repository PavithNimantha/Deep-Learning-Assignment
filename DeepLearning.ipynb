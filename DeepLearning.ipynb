{
  "nbformat": 4,
  "nbformat_minor": 0,
  "metadata": {
    "colab": {
      "provenance": [],
      "include_colab_link": true
    },
    "kernelspec": {
      "name": "python3",
      "display_name": "Python 3"
    },
    "language_info": {
      "name": "python"
    }
  },
  "cells": [
    {
      "cell_type": "markdown",
      "metadata": {
        "id": "view-in-github",
        "colab_type": "text"
      },
      "source": [
        "<a href=\"https://colab.research.google.com/github/PavithNimantha/Deep-Learning-Assignment/blob/IT21267154/DeepLearning.ipynb\" target=\"_parent\"><img src=\"https://colab.research.google.com/assets/colab-badge.svg\" alt=\"Open In Colab\"/></a>"
      ]
    },
    {
      "cell_type": "code",
      "execution_count": 1,
      "metadata": {
        "id": "zS1UNEyMLtOG"
      },
      "outputs": [],
      "source": [
        "# Import necessary libraries\n",
        "import numpy as np\n",
        "import pandas as pd\n",
        "from sklearn.model_selection import train_test_split\n",
        "from sklearn.preprocessing import StandardScaler\n",
        "from sklearn.datasets import load_breast_cancer\n",
        "from sklearn.metrics import accuracy_score, precision_score, recall_score, f1_score\n",
        "from tensorflow.keras.models import Sequential\n",
        "from tensorflow.keras.layers import Dense, Dropout"
      ]
    },
    {
      "cell_type": "code",
      "source": [
        "# Step 1: Load the Breast Cancer Wisconsin dataset\n",
        "data = load_breast_cancer()\n",
        "X = data.data  # Features (input data)\n",
        "y = data.target  # Target variable (0 = malignant, 1 = benign)"
      ],
      "metadata": {
        "id": "Xdb2O5a3Np4l"
      },
      "execution_count": 2,
      "outputs": []
    },
    {
      "cell_type": "code",
      "source": [
        "# Step 2: Split data into training and testing sets (80% train, 20% test)\n",
        "X_train, X_test, y_train, y_test = train_test_split(X, y, test_size=0.2, random_state=42)"
      ],
      "metadata": {
        "id": "DTPfOSlvN0b_"
      },
      "execution_count": 3,
      "outputs": []
    },
    {
      "cell_type": "code",
      "source": [
        "# Step 3: Feature scaling\n",
        "scaler = StandardScaler()\n",
        "X_train = scaler.fit_transform(X_train)\n",
        "X_test = scaler.transform(X_test)"
      ],
      "metadata": {
        "id": "WUKeGIz6Ogk1"
      },
      "execution_count": 4,
      "outputs": []
    },
    {
      "cell_type": "code",
      "source": [
        "# --------------------- Simple Neural Network (Model 1) ---------------------\n",
        "def build_simple_nn():\n",
        "    model = Sequential([\n",
        "        Dense(16, activation='relu', input_shape=(X_train.shape[1],)),  # Hidden layer 1\n",
        "        Dense(8, activation='relu'),  # Hidden layer 2\n",
        "        Dense(1, activation='sigmoid')  # Output layer\n",
        "    ])\n",
        "    model.compile(optimizer='adam', loss='binary_crossentropy', metrics=['accuracy'])\n",
        "    return model"
      ],
      "metadata": {
        "id": "pzvBLfEQP3wB"
      },
      "execution_count": 5,
      "outputs": []
    },
    {
      "cell_type": "code",
      "source": [
        "simple_nn_model = build_simple_nn()\n",
        "simple_nn_model.fit(X_train, y_train, epochs=10, batch_size=32, verbose=0)"
      ],
      "metadata": {
        "colab": {
          "base_uri": "https://localhost:8080/"
        },
        "id": "Uh4XXg2iQEWw",
        "outputId": "a47ab7fe-c43a-40f0-e732-eb5529727859"
      },
      "execution_count": 6,
      "outputs": [
        {
          "output_type": "stream",
          "name": "stderr",
          "text": [
            "/usr/local/lib/python3.10/dist-packages/keras/src/layers/core/dense.py:87: UserWarning: Do not pass an `input_shape`/`input_dim` argument to a layer. When using Sequential models, prefer using an `Input(shape)` object as the first layer in the model instead.\n",
            "  super().__init__(activity_regularizer=activity_regularizer, **kwargs)\n"
          ]
        },
        {
          "output_type": "execute_result",
          "data": {
            "text/plain": [
              "<keras.src.callbacks.history.History at 0x7ed2846740d0>"
            ]
          },
          "metadata": {},
          "execution_count": 6
        }
      ]
    },
    {
      "cell_type": "code",
      "source": [
        "# Evaluate Simple Neural Network\n",
        "simple_nn_accuracy = simple_nn_model.evaluate(X_test, y_test, verbose=0)[1]\n",
        "simple_nn_pred = (simple_nn_model.predict(X_test) > 0.5).astype(\"int32\")\n",
        "simple_nn_precision = precision_score(y_test, simple_nn_pred)\n",
        "simple_nn_recall = recall_score(y_test, simple_nn_pred)\n",
        "simple_nn_f1 = f1_score(y_test, simple_nn_pred)"
      ],
      "metadata": {
        "colab": {
          "base_uri": "https://localhost:8080/"
        },
        "id": "fBprA0n1QUaI",
        "outputId": "4ec40740-1bbf-47fa-92a7-1d720d3a1314"
      },
      "execution_count": 7,
      "outputs": [
        {
          "output_type": "stream",
          "name": "stdout",
          "text": [
            "\u001b[1m4/4\u001b[0m \u001b[32m━━━━━━━━━━━━━━━━━━━━\u001b[0m\u001b[37m\u001b[0m \u001b[1m0s\u001b[0m 14ms/step\n"
          ]
        }
      ]
    },
    {
      "cell_type": "code",
      "source": [
        "# --------------------- Regularized Neural Network (Model 2) ---------------------\n",
        "def build_regularized_nn():\n",
        "    model = Sequential([\n",
        "        Dense(32, activation='relu', input_shape=(X_train.shape[1],)),  # Hidden layer 1\n",
        "        Dropout(0.5),  # Dropout layer to prevent overfitting\n",
        "        Dense(16, activation='relu'),  # Hidden layer 2\n",
        "        Dense(1, activation='sigmoid')  # Output layer\n",
        "    ])\n",
        "    model.compile(optimizer='adam', loss='binary_crossentropy', metrics=['accuracy'])\n",
        "    return model"
      ],
      "metadata": {
        "id": "PFbmC8_fQjf1"
      },
      "execution_count": 8,
      "outputs": []
    },
    {
      "cell_type": "code",
      "source": [
        "regularized_nn_model = build_regularized_nn()\n",
        "regularized_nn_model.fit(X_train, y_train, epochs=10, batch_size=32, verbose=0)"
      ],
      "metadata": {
        "colab": {
          "base_uri": "https://localhost:8080/"
        },
        "id": "G_kqtCe8QuMG",
        "outputId": "e822a9ed-7d6a-49b2-e709-5ebb48fe1336"
      },
      "execution_count": 9,
      "outputs": [
        {
          "output_type": "stream",
          "name": "stderr",
          "text": [
            "/usr/local/lib/python3.10/dist-packages/keras/src/layers/core/dense.py:87: UserWarning: Do not pass an `input_shape`/`input_dim` argument to a layer. When using Sequential models, prefer using an `Input(shape)` object as the first layer in the model instead.\n",
            "  super().__init__(activity_regularizer=activity_regularizer, **kwargs)\n"
          ]
        },
        {
          "output_type": "execute_result",
          "data": {
            "text/plain": [
              "<keras.src.callbacks.history.History at 0x7ed28031a260>"
            ]
          },
          "metadata": {},
          "execution_count": 9
        }
      ]
    },
    {
      "cell_type": "code",
      "source": [
        "# Evaluate Regularized Neural Network\n",
        "regularized_nn_accuracy = regularized_nn_model.evaluate(X_test, y_test, verbose=0)[1]\n",
        "regularized_nn_pred = (regularized_nn_model.predict(X_test) > 0.5).astype(\"int32\")\n",
        "regularized_nn_precision = precision_score(y_test, regularized_nn_pred)\n",
        "regularized_nn_recall = recall_score(y_test, regularized_nn_pred)\n",
        "regularized_nn_f1 = f1_score(y_test, regularized_nn_pred)"
      ],
      "metadata": {
        "colab": {
          "base_uri": "https://localhost:8080/"
        },
        "id": "J3TXtp_ZQ1jx",
        "outputId": "9e6e95a4-0b10-4397-e878-c8632502cb04"
      },
      "execution_count": 10,
      "outputs": [
        {
          "output_type": "stream",
          "name": "stdout",
          "text": [
            "\u001b[1m4/4\u001b[0m \u001b[32m━━━━━━━━━━━━━━━━━━━━\u001b[0m\u001b[37m\u001b[0m \u001b[1m0s\u001b[0m 24ms/step\n"
          ]
        }
      ]
    },
    {
      "cell_type": "code",
      "source": [
        "# Print Regularized Neural Network results\n",
        "print(\"Regularized Neural Network Results:\")\n",
        "print(f\"Accuracy: {regularized_nn_accuracy}\")\n",
        "print(f\"Precision: {regularized_nn_precision}\")\n",
        "print(f\"Recall: {regularized_nn_recall}\")\n",
        "print(f\"F1 Score: {regularized_nn_f1}\")"
      ],
      "metadata": {
        "colab": {
          "base_uri": "https://localhost:8080/"
        },
        "id": "418njx7QQ_m2",
        "outputId": "f77cc4da-f167-40d4-c3dd-f823eaf28611"
      },
      "execution_count": 11,
      "outputs": [
        {
          "output_type": "stream",
          "name": "stdout",
          "text": [
            "Regularized Neural Network Results:\n",
            "Accuracy: 0.9824561476707458\n",
            "Precision: 0.9726027397260274\n",
            "Recall: 1.0\n",
            "F1 Score: 0.9861111111111112\n"
          ]
        }
      ]
    },
    {
      "cell_type": "code",
      "source": [],
      "metadata": {
        "id": "NvWldWlCRXl2"
      },
      "execution_count": null,
      "outputs": []
    }
  ]
}