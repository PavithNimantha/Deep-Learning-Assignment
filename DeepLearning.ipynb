{
  "nbformat": 4,
  "nbformat_minor": 0,
  "metadata": {
    "colab": {
      "provenance": [],
      "authorship_tag": "ABX9TyMuX6elAoUnh0GQ1cp7np4h",
      "include_colab_link": true
    },
    "kernelspec": {
      "name": "python3",
      "display_name": "Python 3"
    },
    "language_info": {
      "name": "python"
    }
  },
  "cells": [
    {
      "cell_type": "markdown",
      "metadata": {
        "id": "view-in-github",
        "colab_type": "text"
      },
      "source": [
        "<a href=\"https://colab.research.google.com/github/PavithNimantha/Deep-Learning-Assignment/blob/main/DeepLearning.ipynb\" target=\"_parent\"><img src=\"https://colab.research.google.com/assets/colab-badge.svg\" alt=\"Open In Colab\"/></a>"
      ]
    },
    {
      "cell_type": "code",
      "execution_count": 1,
      "metadata": {
        "colab": {
          "base_uri": "https://localhost:8080/"
        },
        "id": "fbRWEJW8Wh7_",
        "outputId": "09fa8e8f-69b2-4ff5-e33c-b25e682ed992"
      },
      "outputs": [
        {
          "output_type": "stream",
          "name": "stderr",
          "text": [
            "/usr/local/lib/python3.10/dist-packages/keras/src/layers/core/dense.py:87: UserWarning: Do not pass an `input_shape`/`input_dim` argument to a layer. When using Sequential models, prefer using an `Input(shape)` object as the first layer in the model instead.\n",
            "  super().__init__(activity_regularizer=activity_regularizer, **kwargs)\n"
          ]
        },
        {
          "output_type": "stream",
          "name": "stdout",
          "text": [
            "\u001b[1m4/4\u001b[0m \u001b[32m━━━━━━━━━━━━━━━━━━━━\u001b[0m\u001b[37m\u001b[0m \u001b[1m0s\u001b[0m 31ms/step\n",
            "Simple Neural Network Results:\n",
            "Accuracy: 0.9561403393745422\n",
            "Precision: 0.9583333333333334\n",
            "Recall: 0.971830985915493\n",
            "F1 Score: 0.965034965034965\n"
          ]
        },
        {
          "output_type": "stream",
          "name": "stderr",
          "text": [
            "/usr/local/lib/python3.10/dist-packages/keras/src/layers/core/dense.py:87: UserWarning: Do not pass an `input_shape`/`input_dim` argument to a layer. When using Sequential models, prefer using an `Input(shape)` object as the first layer in the model instead.\n",
            "  super().__init__(activity_regularizer=activity_regularizer, **kwargs)\n"
          ]
        },
        {
          "output_type": "stream",
          "name": "stdout",
          "text": [
            "\u001b[1m4/4\u001b[0m \u001b[32m━━━━━━━━━━━━━━━━━━━━\u001b[0m\u001b[37m\u001b[0m \u001b[1m0s\u001b[0m 42ms/step\n",
            "Regularized Neural Network Results:\n",
            "Accuracy: 0.9736841917037964\n",
            "Precision: 0.9857142857142858\n",
            "Recall: 0.971830985915493\n",
            "F1 Score: 0.9787234042553191\n"
          ]
        },
        {
          "output_type": "stream",
          "name": "stderr",
          "text": [
            "/usr/local/lib/python3.10/dist-packages/keras/src/layers/convolutional/base_conv.py:107: UserWarning: Do not pass an `input_shape`/`input_dim` argument to a layer. When using Sequential models, prefer using an `Input(shape)` object as the first layer in the model instead.\n",
            "  super().__init__(activity_regularizer=activity_regularizer, **kwargs)\n",
            "WARNING:tensorflow:5 out of the last 9 calls to <function TensorFlowTrainer.make_predict_function.<locals>.one_step_on_data_distributed at 0x7db2fa464c10> triggered tf.function retracing. Tracing is expensive and the excessive number of tracings could be due to (1) creating @tf.function repeatedly in a loop, (2) passing tensors with different shapes, (3) passing Python objects instead of tensors. For (1), please define your @tf.function outside of the loop. For (2), @tf.function has reduce_retracing=True option that can avoid unnecessary retracing. For (3), please refer to https://www.tensorflow.org/guide/function#controlling_retracing and https://www.tensorflow.org/api_docs/python/tf/function for  more details.\n"
          ]
        },
        {
          "output_type": "stream",
          "name": "stdout",
          "text": [
            "\r\u001b[1m1/4\u001b[0m \u001b[32m━━━━━\u001b[0m\u001b[37m━━━━━━━━━━━━━━━\u001b[0m \u001b[1m0s\u001b[0m 62ms/step"
          ]
        },
        {
          "output_type": "stream",
          "name": "stderr",
          "text": [
            "WARNING:tensorflow:6 out of the last 12 calls to <function TensorFlowTrainer.make_predict_function.<locals>.one_step_on_data_distributed at 0x7db2fa464c10> triggered tf.function retracing. Tracing is expensive and the excessive number of tracings could be due to (1) creating @tf.function repeatedly in a loop, (2) passing tensors with different shapes, (3) passing Python objects instead of tensors. For (1), please define your @tf.function outside of the loop. For (2), @tf.function has reduce_retracing=True option that can avoid unnecessary retracing. For (3), please refer to https://www.tensorflow.org/guide/function#controlling_retracing and https://www.tensorflow.org/api_docs/python/tf/function for  more details.\n"
          ]
        },
        {
          "output_type": "stream",
          "name": "stdout",
          "text": [
            "\u001b[1m4/4\u001b[0m \u001b[32m━━━━━━━━━━━━━━━━━━━━\u001b[0m\u001b[37m\u001b[0m \u001b[1m0s\u001b[0m 19ms/step\n"
          ]
        },
        {
          "output_type": "stream",
          "name": "stderr",
          "text": [
            "/usr/local/lib/python3.10/dist-packages/keras/src/layers/core/dense.py:87: UserWarning: Do not pass an `input_shape`/`input_dim` argument to a layer. When using Sequential models, prefer using an `Input(shape)` object as the first layer in the model instead.\n",
            "  super().__init__(activity_regularizer=activity_regularizer, **kwargs)\n"
          ]
        },
        {
          "output_type": "stream",
          "name": "stdout",
          "text": [
            "CNN Results:\n",
            "Accuracy: 0.9824561476707458\n",
            "Precision: 0.9726027397260274\n",
            "Recall: 1.0\n",
            "F1 Score: 0.9861111111111112\n",
            "\u001b[1m4/4\u001b[0m \u001b[32m━━━━━━━━━━━━━━━━━━━━\u001b[0m\u001b[37m\u001b[0m \u001b[1m0s\u001b[0m 15ms/step\n",
            "Deeper Neural Network Results:\n",
            "Accuracy: 0.9824561476707458\n",
            "Precision: 0.9859154929577465\n",
            "Recall: 0.9859154929577465\n",
            "F1 Score: 0.9859154929577465\n"
          ]
        }
      ],
      "source": [
        "# Import necessary libraries\n",
        "import numpy as np\n",
        "import pandas as pd\n",
        "from sklearn.model_selection import train_test_split\n",
        "from sklearn.preprocessing import StandardScaler\n",
        "from sklearn.datasets import load_breast_cancer\n",
        "from sklearn.metrics import accuracy_score, precision_score, recall_score, f1_score\n",
        "from tensorflow.keras.models import Sequential\n",
        "from tensorflow.keras.layers import Dense, Dropout, Conv1D, Flatten\n",
        "\n",
        "# Step 1: Load the Breast Cancer Wisconsin dataset\n",
        "data = load_breast_cancer()\n",
        "X = data.data  # Features (input data)\n",
        "y = data.target  # Target variable (0 = malignant, 1 = benign)\n",
        "\n",
        "# Step 2: Split data into training and testing sets (80% train, 20% test)\n",
        "X_train, X_test, y_train, y_test = train_test_split(X, y, test_size=0.2, random_state=42)\n",
        "\n",
        "# Step 3: Feature scaling\n",
        "scaler = StandardScaler()\n",
        "X_train = scaler.fit_transform(X_train)\n",
        "X_test = scaler.transform(X_test)\n",
        "\n",
        "# --------------------- Simple Neural Network (Model 1) ---------------------\n",
        "def build_simple_nn():\n",
        "    model = Sequential([\n",
        "        Dense(16, activation='relu', input_shape=(X_train.shape[1],)),  # Hidden layer 1\n",
        "        Dense(8, activation='relu'),  # Hidden layer 2\n",
        "        Dense(1, activation='sigmoid')  # Output layer\n",
        "    ])\n",
        "    model.compile(optimizer='adam', loss='binary_crossentropy', metrics=['accuracy'])\n",
        "    return model\n",
        "\n",
        "simple_nn_model = build_simple_nn()\n",
        "simple_nn_model.fit(X_train, y_train, epochs=10, batch_size=32, verbose=0)\n",
        "\n",
        "# Evaluate Simple Neural Network\n",
        "simple_nn_accuracy = simple_nn_model.evaluate(X_test, y_test, verbose=0)[1]\n",
        "simple_nn_pred = (simple_nn_model.predict(X_test) > 0.5).astype(\"int32\")\n",
        "simple_nn_precision = precision_score(y_test, simple_nn_pred)\n",
        "simple_nn_recall = recall_score(y_test, simple_nn_pred)\n",
        "simple_nn_f1 = f1_score(y_test, simple_nn_pred)\n",
        "\n",
        "# Print Simple Neural Network results\n",
        "print(\"Simple Neural Network Results:\")\n",
        "print(f\"Accuracy: {simple_nn_accuracy}\")\n",
        "print(f\"Precision: {simple_nn_precision}\")\n",
        "print(f\"Recall: {simple_nn_recall}\")\n",
        "print(f\"F1 Score: {simple_nn_f1}\")\n",
        "\n",
        "# --------------------- Regularized Neural Network (Model 2) ---------------------\n",
        "def build_regularized_nn():\n",
        "    model = Sequential([\n",
        "        Dense(32, activation='relu', input_shape=(X_train.shape[1],)),  # Hidden layer 1\n",
        "        Dropout(0.5),  # Dropout layer to prevent overfitting\n",
        "        Dense(16, activation='relu'),  # Hidden layer 2\n",
        "        Dense(1, activation='sigmoid')  # Output layer\n",
        "    ])\n",
        "    model.compile(optimizer='adam', loss='binary_crossentropy', metrics=['accuracy'])\n",
        "    return model\n",
        "\n",
        "regularized_nn_model = build_regularized_nn()\n",
        "regularized_nn_model.fit(X_train, y_train, epochs=10, batch_size=32, verbose=0)\n",
        "\n",
        "# Evaluate Regularized Neural Network\n",
        "regularized_nn_accuracy = regularized_nn_model.evaluate(X_test, y_test, verbose=0)[1]\n",
        "regularized_nn_pred = (regularized_nn_model.predict(X_test) > 0.5).astype(\"int32\")\n",
        "regularized_nn_precision = precision_score(y_test, regularized_nn_pred)\n",
        "regularized_nn_recall = recall_score(y_test, regularized_nn_pred)\n",
        "regularized_nn_f1 = f1_score(y_test, regularized_nn_pred)\n",
        "\n",
        "# Print Regularized Neural Network results\n",
        "print(\"Regularized Neural Network Results:\")\n",
        "print(f\"Accuracy: {regularized_nn_accuracy}\")\n",
        "print(f\"Precision: {regularized_nn_precision}\")\n",
        "print(f\"Recall: {regularized_nn_recall}\")\n",
        "print(f\"F1 Score: {regularized_nn_f1}\")\n",
        "\n",
        "# --------------------- Convolutional Neural Network (CNN, Model 3) ---------------------\n",
        "# Reshape data for CNN\n",
        "X_train_cnn = X_train.reshape(X_train.shape[0], X_train.shape[1], 1)\n",
        "X_test_cnn = X_test.reshape(X_test.shape[0], X_test.shape[1], 1)\n",
        "\n",
        "def build_cnn():\n",
        "    model = Sequential()\n",
        "    model.add(Conv1D(32, kernel_size=3, activation='relu', input_shape=(X_train.shape[1], 1)))\n",
        "    model.add(Flatten())\n",
        "    model.add(Dense(16, activation='relu'))\n",
        "    model.add(Dense(1, activation='sigmoid'))\n",
        "    model.compile(optimizer='adam', loss='binary_crossentropy', metrics=['accuracy'])\n",
        "    return model\n",
        "\n",
        "cnn_model = build_cnn()\n",
        "cnn_model.fit(X_train_cnn, y_train, epochs=10, batch_size=32, verbose=0)\n",
        "\n",
        "# Evaluate CNN\n",
        "cnn_accuracy = cnn_model.evaluate(X_test_cnn, y_test, verbose=0)[1]\n",
        "cnn_pred = (cnn_model.predict(X_test_cnn) > 0.5).astype(\"int32\")\n",
        "cnn_precision = precision_score(y_test, cnn_pred)\n",
        "cnn_recall = recall_score(y_test, cnn_pred)\n",
        "cnn_f1 = f1_score(y_test, cnn_pred)\n",
        "\n",
        "# Print CNN results\n",
        "print(\"CNN Results:\")\n",
        "print(f\"Accuracy: {cnn_accuracy}\")\n",
        "print(f\"Precision: {cnn_precision}\")\n",
        "print(f\"Recall: {cnn_recall}\")\n",
        "print(f\"F1 Score: {cnn_f1}\")\n",
        "\n",
        "# --------------------- Deeper Neural Network (Model 4) ---------------------\n",
        "def build_deeper_nn():\n",
        "    model = Sequential([\n",
        "        Dense(32, activation='relu', input_shape=(X_train.shape[1],)),  # Hidden layer 1\n",
        "        Dense(16, activation='relu'),  # Hidden layer 2\n",
        "        Dense(8, activation='relu'),  # Hidden layer 3\n",
        "        Dense(1, activation='sigmoid')  # Output layer\n",
        "    ])\n",
        "    model.compile(optimizer='adam', loss='binary_crossentropy', metrics=['accuracy'])\n",
        "    return model\n",
        "\n",
        "deeper_nn_model = build_deeper_nn()\n",
        "deeper_nn_model.fit(X_train, y_train, epochs=10, batch_size=32, verbose=0)\n",
        "\n",
        "# Evaluate Deeper Neural Network\n",
        "deeper_nn_accuracy = deeper_nn_model.evaluate(X_test, y_test, verbose=0)[1]\n",
        "deeper_nn_pred = (deeper_nn_model.predict(X_test) > 0.5).astype(\"int32\")\n",
        "deeper_nn_precision = precision_score(y_test, deeper_nn_pred)\n",
        "deeper_nn_recall = recall_score(y_test, deeper_nn_pred)\n",
        "deeper_nn_f1 = f1_score(y_test, deeper_nn_pred)\n",
        "\n",
        "# Print Deeper Neural Network results\n",
        "print(\"Deeper Neural Network Results:\")\n",
        "print(f\"Accuracy: {deeper_nn_accuracy}\")\n",
        "print(f\"Precision: {deeper_nn_precision}\")\n",
        "print(f\"Recall: {deeper_nn_recall}\")\n",
        "print(f\"F1 Score: {deeper_nn_f1}\")\n"
      ]
    }
  ]
}