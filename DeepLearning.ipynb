{
  "nbformat": 4,
  "nbformat_minor": 0,
  "metadata": {
    "colab": {
      "provenance": [],
      "include_colab_link": true
    },
    "kernelspec": {
      "name": "python3",
      "display_name": "Python 3"
    },
    "language_info": {
      "name": "python"
    }
  },
  "cells": [
    {
      "cell_type": "markdown",
      "metadata": {
        "id": "view-in-github",
        "colab_type": "text"
      },
      "source": [
        "<a href=\"https://colab.research.google.com/github/PavithNimantha/Deep-Learning-Assignment/blob/IT21005008/DeepLearning.ipynb\" target=\"_parent\"><img src=\"https://colab.research.google.com/assets/colab-badge.svg\" alt=\"Open In Colab\"/></a>"
      ]
    },
    {
      "cell_type": "code",
      "execution_count": 1,
      "metadata": {
        "id": "zS1UNEyMLtOG"
      },
      "outputs": [],
      "source": [
        "# Import necessary libraries\n",
        "import numpy as np\n",
        "import pandas as pd\n",
        "from sklearn.model_selection import train_test_split\n",
        "from sklearn.preprocessing import StandardScaler\n",
        "from sklearn.datasets import load_breast_cancer\n",
        "from sklearn.metrics import accuracy_score, precision_score, recall_score, f1_score\n",
        "from tensorflow.keras.models import Sequential\n",
        "from tensorflow.keras.layers import Dense, Conv1D, Flatten"
      ]
    },
    {
      "cell_type": "code",
      "source": [
        "# Step 1: Load the Breast Cancer Wisconsin dataset\n",
        "data = load_breast_cancer()\n",
        "X = data.data  # Features (input data)\n",
        "y = data.target  # Target variable (0 = malignant, 1 = benign)"
      ],
      "metadata": {
        "id": "Xdb2O5a3Np4l"
      },
      "execution_count": 2,
      "outputs": []
    },
    {
      "cell_type": "code",
      "source": [
        "# Step 2: Split data into training and testing sets (80% train, 20% test)\n",
        "X_train, X_test, y_train, y_test = train_test_split(X, y, test_size=0.2, random_state=42)"
      ],
      "metadata": {
        "id": "DTPfOSlvN0b_"
      },
      "execution_count": 3,
      "outputs": []
    },
    {
      "cell_type": "code",
      "source": [
        "# Step 3: Feature scaling\n",
        "scaler = StandardScaler()\n",
        "X_train = scaler.fit_transform(X_train)\n",
        "X_test = scaler.transform(X_test)"
      ],
      "metadata": {
        "id": "WUKeGIz6Ogk1"
      },
      "execution_count": 4,
      "outputs": []
    },
    {
      "cell_type": "code",
      "source": [
        "# --------------------- Convolutional Neural Network (CNN, Model 3) ---------------------\n",
        "# Reshape data for CNN\n",
        "X_train_cnn = X_train.reshape(X_train.shape[0], X_train.shape[1], 1)\n",
        "X_test_cnn = X_test.reshape(X_test.shape[0], X_test.shape[1], 1)\n",
        "\n",
        "def build_cnn():\n",
        "    model = Sequential()\n",
        "    model.add(Conv1D(32, kernel_size=3, activation='relu', input_shape=(X_train.shape[1], 1)))\n",
        "    model.add(Flatten())\n",
        "    model.add(Dense(16, activation='relu'))\n",
        "    model.add(Dense(1, activation='sigmoid'))\n",
        "    model.compile(optimizer='adam', loss='binary_crossentropy', metrics=['accuracy'])\n",
        "    return model\n",
        "\n",
        "cnn_model = build_cnn()\n",
        "cnn_model.fit(X_train_cnn, y_train, epochs=10, batch_size=32, verbose=0)"
      ],
      "metadata": {
        "id": "pzvBLfEQP3wB",
        "colab": {
          "base_uri": "https://localhost:8080/"
        },
        "outputId": "a9f69a55-93a4-4f47-f364-76191bbd8989"
      },
      "execution_count": 5,
      "outputs": [
        {
          "output_type": "stream",
          "name": "stderr",
          "text": [
            "/usr/local/lib/python3.10/dist-packages/keras/src/layers/convolutional/base_conv.py:107: UserWarning: Do not pass an `input_shape`/`input_dim` argument to a layer. When using Sequential models, prefer using an `Input(shape)` object as the first layer in the model instead.\n",
            "  super().__init__(activity_regularizer=activity_regularizer, **kwargs)\n"
          ]
        },
        {
          "output_type": "execute_result",
          "data": {
            "text/plain": [
              "<keras.src.callbacks.history.History at 0x7c630b459f60>"
            ]
          },
          "metadata": {},
          "execution_count": 5
        }
      ]
    },
    {
      "cell_type": "code",
      "source": [
        "# Evaluate CNN\n",
        "cnn_accuracy = cnn_model.evaluate(X_test_cnn, y_test, verbose=0)[1]\n",
        "cnn_pred = (cnn_model.predict(X_test_cnn) > 0.5).astype(\"int32\")\n",
        "cnn_precision = precision_score(y_test, cnn_pred)\n",
        "cnn_recall = recall_score(y_test, cnn_pred)\n",
        "cnn_f1 = f1_score(y_test, cnn_pred)"
      ],
      "metadata": {
        "colab": {
          "base_uri": "https://localhost:8080/"
        },
        "id": "Uh4XXg2iQEWw",
        "outputId": "bd17e487-fc0d-4794-ed0c-21f3da5d307a"
      },
      "execution_count": 6,
      "outputs": [
        {
          "output_type": "stream",
          "name": "stdout",
          "text": [
            "\u001b[1m4/4\u001b[0m \u001b[32m━━━━━━━━━━━━━━━━━━━━\u001b[0m\u001b[37m\u001b[0m \u001b[1m0s\u001b[0m 27ms/step\n"
          ]
        }
      ]
    },
    {
      "cell_type": "code",
      "source": [
        "# Print CNN results\n",
        "print(\"CNN Results:\")\n",
        "print(f\"Accuracy: {cnn_accuracy}\")\n",
        "print(f\"Precision: {cnn_precision}\")\n",
        "print(f\"Recall: {cnn_recall}\")\n",
        "print(f\"F1 Score: {cnn_f1}\")"
      ],
      "metadata": {
        "colab": {
          "base_uri": "https://localhost:8080/"
        },
        "id": "fBprA0n1QUaI",
        "outputId": "a6cb6186-2bd7-409b-dd32-c2a82161dc48"
      },
      "execution_count": 7,
      "outputs": [
        {
          "output_type": "stream",
          "name": "stdout",
          "text": [
            "CNN Results:\n",
            "Accuracy: 0.9912280440330505\n",
            "Precision: 0.9861111111111112\n",
            "Recall: 1.0\n",
            "F1 Score: 0.993006993006993\n"
          ]
        }
      ]
    },
    {
      "cell_type": "code",
      "source": [
        "# --------------------- Deeper Neural Network (Model 4) ---------------------\n",
        "def build_deeper_nn():\n",
        "    model = Sequential([\n",
        "        Dense(32, activation='relu', input_shape=(X_train.shape[1],)),  # Hidden layer 1\n",
        "        Dense(16, activation='relu'),  # Hidden layer 2\n",
        "        Dense(8, activation='relu'),  # Hidden layer 3\n",
        "        Dense(1, activation='sigmoid')  # Output layer\n",
        "    ])\n",
        "    model.compile(optimizer='adam', loss='binary_crossentropy', metrics=['accuracy'])\n",
        "    return model\n",
        "\n",
        "deeper_nn_model = build_deeper_nn()\n",
        "deeper_nn_model.fit(X_train, y_train, epochs=10, batch_size=32, verbose=0)"
      ],
      "metadata": {
        "colab": {
          "base_uri": "https://localhost:8080/"
        },
        "id": "PFbmC8_fQjf1",
        "outputId": "7b14e282-8794-44cd-e4c5-cdc5ed38feca"
      },
      "execution_count": 8,
      "outputs": [
        {
          "output_type": "stream",
          "name": "stderr",
          "text": [
            "/usr/local/lib/python3.10/dist-packages/keras/src/layers/core/dense.py:87: UserWarning: Do not pass an `input_shape`/`input_dim` argument to a layer. When using Sequential models, prefer using an `Input(shape)` object as the first layer in the model instead.\n",
            "  super().__init__(activity_regularizer=activity_regularizer, **kwargs)\n"
          ]
        },
        {
          "output_type": "execute_result",
          "data": {
            "text/plain": [
              "<keras.src.callbacks.history.History at 0x7c62faef4b80>"
            ]
          },
          "metadata": {},
          "execution_count": 8
        }
      ]
    },
    {
      "cell_type": "code",
      "source": [
        "# Evaluate Deeper Neural Network\n",
        "deeper_nn_accuracy = deeper_nn_model.evaluate(X_test, y_test, verbose=0)[1]\n",
        "deeper_nn_pred = (deeper_nn_model.predict(X_test) > 0.5).astype(\"int32\")\n",
        "deeper_nn_precision = precision_score(y_test, deeper_nn_pred)\n",
        "deeper_nn_recall = recall_score(y_test, deeper_nn_pred)\n",
        "deeper_nn_f1 = f1_score(y_test, deeper_nn_pred)"
      ],
      "metadata": {
        "colab": {
          "base_uri": "https://localhost:8080/"
        },
        "id": "G_kqtCe8QuMG",
        "outputId": "54a35b2e-90d1-4253-c711-ee746007ac48"
      },
      "execution_count": 9,
      "outputs": [
        {
          "output_type": "stream",
          "name": "stdout",
          "text": [
            "\u001b[1m4/4\u001b[0m \u001b[32m━━━━━━━━━━━━━━━━━━━━\u001b[0m\u001b[37m\u001b[0m \u001b[1m0s\u001b[0m 18ms/step\n"
          ]
        }
      ]
    },
    {
      "cell_type": "code",
      "source": [
        "# Print Deeper Neural Network results\n",
        "print(\"Deeper Neural Network Results:\")\n",
        "print(f\"Accuracy: {deeper_nn_accuracy}\")\n",
        "print(f\"Precision: {deeper_nn_precision}\")\n",
        "print(f\"Recall: {deeper_nn_recall}\")\n",
        "print(f\"F1 Score: {deeper_nn_f1}\")"
      ],
      "metadata": {
        "colab": {
          "base_uri": "https://localhost:8080/"
        },
        "id": "J3TXtp_ZQ1jx",
        "outputId": "4f072977-e680-4a1b-a627-23738c61aadb"
      },
      "execution_count": 10,
      "outputs": [
        {
          "output_type": "stream",
          "name": "stdout",
          "text": [
            "Deeper Neural Network Results:\n",
            "Accuracy: 0.9824561476707458\n",
            "Precision: 0.9859154929577465\n",
            "Recall: 0.9859154929577465\n",
            "F1 Score: 0.9859154929577465\n"
          ]
        }
      ]
    }
  ]
}