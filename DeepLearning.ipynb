{
  "nbformat": 4,
  "nbformat_minor": 0,
  "metadata": {
    "colab": {
      "provenance": [],
      "authorship_tag": "ABX9TyOXvfIdUfNrDZrkDVV+iA1k",
      "include_colab_link": true
    },
    "kernelspec": {
      "name": "python3",
      "display_name": "Python 3"
    },
    "language_info": {
      "name": "python"
    }
  },
  "cells": [
    {
      "cell_type": "markdown",
      "metadata": {
        "id": "view-in-github",
        "colab_type": "text"
      },
      "source": [
        "<a href=\"https://colab.research.google.com/github/PavithNimantha/Deep-Learning-Assignment/blob/IT21005008/DeepLearning.ipynb\" target=\"_parent\"><img src=\"https://colab.research.google.com/assets/colab-badge.svg\" alt=\"Open In Colab\"/></a>"
      ]
    },
    {
      "cell_type": "code",
      "execution_count": 8,
      "metadata": {
        "id": "zS1UNEyMLtOG"
      },
      "outputs": [],
      "source": [
        "# CNN and Deeper Neural Network\n",
        "\n",
        "# Import necessary libraries\n",
        "import numpy as np\n",
        "import pandas as pd\n",
        "from tensorflow.keras.models import Sequential\n",
        "from tensorflow.keras.layers import Dense, Conv1D, Flatten\n",
        "from sklearn.metrics import accuracy_score, precision_score, recall_score, f1_score\n",
        "from sklearn.preprocessing import StandardScaler\n",
        "from sklearn.datasets import load_breast_cancer\n",
        "from tensorflow.keras.models import Sequential\n",
        "from tensorflow.keras.layers import Dense, Dropout\n",
        "from sklearn.model_selection import train_test_split\n",
        "\n",
        "\n",
        "\n",
        "\n"
      ]
    },
    {
      "cell_type": "code",
      "source": [
        "# Step 1: Load the Breast Cancer Wisconsin dataset\n",
        "data = load_breast_cancer()\n",
        "X = data.data  # Features (input data)\n",
        "y = data.target  # Target variable (0 = malignant, 1 = benign)\n"
      ],
      "metadata": {
        "id": "Xdb2O5a3Np4l"
      },
      "execution_count": 9,
      "outputs": []
    },
    {
      "cell_type": "code",
      "source": [
        "# Step 2: Split data into training and testing sets (80% train, 20% test)\n",
        "X_train, X_test, y_train, y_test = train_test_split(X, y, test_size=0.2, random_state=42)\n"
      ],
      "metadata": {
        "id": "DTPfOSlvN0b_"
      },
      "execution_count": 13,
      "outputs": []
    },
    {
      "cell_type": "code",
      "source": [
        "# Step 3: Feature scaling\n",
        "scaler = StandardScaler()\n",
        "X_train = scaler.fit_transform(X_train)  # Fit the scaler to the training data\n",
        "X_test = scaler.transform(X_test)  # Transform the test data"
      ],
      "metadata": {
        "id": "WUKeGIz6Ogk1"
      },
      "execution_count": 14,
      "outputs": []
    },
    {
      "cell_type": "code",
      "source": [
        "# Step 4: Reshape data for CNN\n",
        "X_train_cnn = X_train.reshape(X_train.shape[0], X_train.shape[1], 1)\n",
        "X_test_cnn = X_test.reshape(X_test.shape[0], X_test.shape[1], 1)"
      ],
      "metadata": {
        "id": "pzvBLfEQP3wB"
      },
      "execution_count": 15,
      "outputs": []
    },
    {
      "cell_type": "code",
      "source": [
        "# Model 3: Convolutional Neural Network (CNN)\n",
        "def build_cnn():\n",
        "    model = Sequential()\n",
        "    model.add(Conv1D(32, kernel_size=3, activation='relu', input_shape=(X_train.shape[1], 1)))\n",
        "    model.add(Flatten())\n",
        "    model.add(Dense(16, activation='relu'))\n",
        "    model.add(Dense(1, activation='sigmoid'))\n",
        "    model.compile(optimizer='adam', loss='binary_crossentropy', metrics=['accuracy'])\n",
        "    return model\n",
        "\n",
        "cnn_model = build_cnn()\n",
        "cnn_model.fit(X_train_cnn, y_train, epochs=10, batch_size=32, verbose=0)"
      ],
      "metadata": {
        "colab": {
          "base_uri": "https://localhost:8080/"
        },
        "id": "Uh4XXg2iQEWw",
        "outputId": "73daa81a-7f93-4719-d15a-b259b413e43e"
      },
      "execution_count": 16,
      "outputs": [
        {
          "output_type": "stream",
          "name": "stderr",
          "text": [
            "/usr/local/lib/python3.10/dist-packages/keras/src/layers/convolutional/base_conv.py:107: UserWarning: Do not pass an `input_shape`/`input_dim` argument to a layer. When using Sequential models, prefer using an `Input(shape)` object as the first layer in the model instead.\n",
            "  super().__init__(activity_regularizer=activity_regularizer, **kwargs)\n"
          ]
        },
        {
          "output_type": "execute_result",
          "data": {
            "text/plain": [
              "<keras.src.callbacks.history.History at 0x7aa7c05d3eb0>"
            ]
          },
          "metadata": {},
          "execution_count": 16
        }
      ]
    },
    {
      "cell_type": "code",
      "source": [
        "# Evaluate CNN\n",
        "cnn_accuracy = cnn_model.evaluate(X_test_cnn, y_test, verbose=0)[1]\n",
        "cnn_pred = (cnn_model.predict(X_test_cnn) > 0.5).astype(\"int32\")\n",
        "cnn_precision = precision_score(y_test, cnn_pred)\n",
        "cnn_recall = recall_score(y_test, cnn_pred)\n",
        "cnn_f1 = f1_score(y_test, cnn_pred)"
      ],
      "metadata": {
        "colab": {
          "base_uri": "https://localhost:8080/"
        },
        "id": "fBprA0n1QUaI",
        "outputId": "abd7c408-d846-4191-a2ad-4f399d1459f1"
      },
      "execution_count": 17,
      "outputs": [
        {
          "output_type": "stream",
          "name": "stdout",
          "text": [
            "\u001b[1m4/4\u001b[0m \u001b[32m━━━━━━━━━━━━━━━━━━━━\u001b[0m\u001b[37m\u001b[0m \u001b[1m0s\u001b[0m 20ms/step\n"
          ]
        }
      ]
    },
    {
      "cell_type": "code",
      "source": [
        "# Print CNN results\n",
        "print(\"CNN Results:\")\n",
        "print(f\"Accuracy: {cnn_accuracy}\")\n",
        "print(f\"Precision: {cnn_precision}\")\n",
        "print(f\"Recall: {cnn_recall}\")\n",
        "print(f\"F1 Score: {cnn_f1}\")"
      ],
      "metadata": {
        "colab": {
          "base_uri": "https://localhost:8080/"
        },
        "id": "PFbmC8_fQjf1",
        "outputId": "5eb72a29-9f1b-4bd6-d564-575bdd2b01a4"
      },
      "execution_count": 18,
      "outputs": [
        {
          "output_type": "stream",
          "name": "stdout",
          "text": [
            "CNN Results:\n",
            "Accuracy: 0.9736841917037964\n",
            "Precision: 0.9722222222222222\n",
            "Recall: 0.9859154929577465\n",
            "F1 Score: 0.9790209790209791\n"
          ]
        }
      ]
    },
    {
      "cell_type": "code",
      "source": [
        "# Model 4: Deeper Neural Network\n",
        "def build_deeper_nn():\n",
        "    model = Sequential([\n",
        "        Dense(32, activation='relu', input_shape=(X_train.shape[1],)),  # Hidden layer 1\n",
        "        Dense(16, activation='relu'),  # Hidden layer 2\n",
        "        Dense(8, activation='relu'),  # Hidden layer 3\n",
        "        Dense(1, activation='sigmoid')  # Output layer\n",
        "    ])\n",
        "    model.compile(optimizer='adam', loss='binary_crossentropy', metrics=['accuracy'])\n",
        "    return model\n",
        "\n",
        "deeper_nn_model = build_deeper_nn()\n",
        "deeper_nn_model.fit(X_train, y_train, epochs=10, batch_size=32, verbose=0)"
      ],
      "metadata": {
        "colab": {
          "base_uri": "https://localhost:8080/"
        },
        "id": "G_kqtCe8QuMG",
        "outputId": "357f34b1-c760-41d6-c0c2-747514580459"
      },
      "execution_count": 19,
      "outputs": [
        {
          "output_type": "stream",
          "name": "stderr",
          "text": [
            "/usr/local/lib/python3.10/dist-packages/keras/src/layers/core/dense.py:87: UserWarning: Do not pass an `input_shape`/`input_dim` argument to a layer. When using Sequential models, prefer using an `Input(shape)` object as the first layer in the model instead.\n",
            "  super().__init__(activity_regularizer=activity_regularizer, **kwargs)\n"
          ]
        },
        {
          "output_type": "execute_result",
          "data": {
            "text/plain": [
              "<keras.src.callbacks.history.History at 0x7aa7bc302f20>"
            ]
          },
          "metadata": {},
          "execution_count": 19
        }
      ]
    },
    {
      "cell_type": "code",
      "source": [],
      "metadata": {
        "id": "J3TXtp_ZQ1jx"
      },
      "execution_count": null,
      "outputs": []
    }
  ]
}